{
  "nbformat": 4,
  "nbformat_minor": 0,
  "metadata": {
    "colab": {
      "provenance": []
    },
    "kernelspec": {
      "name": "python3",
      "display_name": "Python 3"
    },
    "language_info": {
      "name": "python"
    }
  },
  "cells": [
    {
      "cell_type": "code",
      "source": [],
      "metadata": {
        "id": "KcyFcrKcEme1"
      },
      "execution_count": null,
      "outputs": []
    },
    {
      "cell_type": "markdown",
      "source": [
        "Q1. What are data structures, and why are they important ?\n",
        "  - A data structure is a way of organizing and storing data to enable     efficient access and modification. It serves as the foundation for designing algorithms and managing data in computer programs.\n",
        "  It is important because Data structures are important because they optimize data organization and access, improving program efficiency. They are essential for solving computational problems and designing effective algorihm\n",
        "\n",
        "Q2.  Explain the difference between mutable and immutable data types with examples\n",
        "  - Mutable means an object can be changed or modified after it is created.\n",
        "      Immutable means an object can not be change or modified after once it created.  \n",
        "    \n",
        "Q3. What are the main differences between lists and tuples in Python ?\n",
        "\n",
        " - The main difference is that lists are mutable, meaning their elements can be modified, while tuples are immutable, meaning they cannot be changed after creation. Additionally, lists are slower but more versatile, whereas tuples are faster and we can use tuple where we never want change that object once created.\n",
        "\n",
        "Q4. Describe how dictionaries store data ?\n",
        " - A dictionary in Python stores data as key-value pairs using a hash table internally. Keys are hashed to compute an index, enabling fast access, insertion, and deletion.\n",
        "\n",
        "Q5. Why might you use a set instead of a list in Python ?\n",
        "\n",
        "  - You might use a set instead of a list when you need to store unique elements and perform fast membership checks. Sets are optimized for operations like unions, intersections, and differences, unlike lists which allow duplicates and require more time for such operations.\n",
        "\n",
        "Q6. What is a string in Python, and how is it different from a list ?\n",
        "\n",
        "  - A string in Python is an immutable sequence of characters, meaning it cannot be changed after creation. Unlike a list, which is mutable and can hold various data types, a string can only hold characters and is optimized for text processing.\n",
        "\n",
        "Q7. How do tuples ensure data integrity in Python ?\n",
        "   \n",
        "  - Tuples ensure data integrity by being immutable, meaning their elements cannot be altered after creation. This makes them ideal for storing fixed collections of data where consistency is crucial.\n",
        "\n",
        "\n",
        "Q8. What is a hash table, and how does it relate to dictionaries in PythonS ?\n",
        "    \n",
        "  - A hash table is a data structure that maps keys to values using a hash function for fast data retrieval. In Python, dictionaries are built on hash tables, enabling efficient storage and quick lookups for key-value pairs  \n",
        "\n",
        "Q9. Can lists contain different data types in Python ?\n",
        "  \n",
        "  - Yes, lists in Python can contain elements of different data types, such as integers, strings, floats, or even other lists and objects, all within the same list\n",
        "\n",
        "Q10. Explain why strings are immutable in Python ?\n",
        "\n",
        "   - Strings are immutable in Python to ensure memory efficiency and security, as they are widely used and often shared between variables. Immutability allows Python to reuse string objects, reducing memory usage and preventing accidental changes.\n",
        "\n",
        "Q11. What advantages do dictionaries offer over lists for certain tasks ?\n",
        "\n",
        "   - Dictionaries offer the following advantages over lists for certain tasks:\n",
        "   Key-Value Pair Storage: They allow associating unique keys with values, enabling more intuitive and structured data organization compared to lists.\n",
        "   Efficient Updates: Modifying or adding entries in a dictionary is faster and more straightforward than in a list where positional indexing is required.\n",
        "\n",
        "Q12. Describe a scenario where using a tuple would be preferable over a list.\n",
        "\n",
        "   - Using a tuple is preferable when you need to store a collection of values that should not be modified, such as coordinates (x, y) or constant configuration settings.\n",
        "\n",
        "Q13. How do sets handle duplicate values in Python ?\n",
        "   \n",
        "   - Sets in Python automatically remove duplicate values because they only allow unique elements. If you try to add a duplicate value, it will simply be ignored\n",
        "\n",
        "Q14. How does the “in” keyword work differently for lists and dictionaries ?\n",
        "\n",
        "   - The \"in\" keyword works differently for lists and dictionaries:\n",
        "\n",
        "  For lists, it checks if a specific element is present in the list. For example, 3 in [1, 2, 3] returns True because 3 is an element in the list.\n",
        "\n",
        "  For dictionaries, it checks if a specific key exists in the dictionary. For example, 'name' in {'name': 'Alice', 'age': 25} returns True because 'name' is a key in the dictionary\n",
        "\n",
        "Q15. Can you modify the elements of a tuple? Explain why or why not.\n",
        "\n",
        "   - No, you cannot modify the elements of a tuple because tuples are immutable in Python. Once a tuple is created, its elements cannot be changed, added, or removed. This immutability ensures data integrity and can improve performance, as Python can optimize memory usage by reusing tuples\n",
        "\n",
        "Q16. What is a nested dictionary, and give an example of its use case ?\n",
        "\n",
        "   - A nested dictionary is a dictionary where the values are other dictionaries, enabling hierarchical data storage. For example, in a student record system, you can store student details and their courses in a nested dictionary like {'student1': {'name': 'Alice', 'courses': ['Math', 'Science']}}.\n",
        "\n",
        "Q17. Describe the time complexity of accessing elements in a dictionary ?\n",
        "   \n",
        "   - Accessing elements in a dictionary has an average time complexity of\n",
        "  𝑂(1) because dictionaries use a hash table to map keys to values. However, in the worst case (e.g., hash collisions), the time complexity can degrade to 0(𝑛).\n",
        "\n",
        "Q18. In what situations are lists preferred over dictionaries ?\n",
        "   \n",
        "   - Lists are preferred over dictionaries in the following situations.\n",
        "   sequential data,index based access,allowing dublicates,lightweight storage,iterative operation.\n",
        "\n",
        "Q19. Why are dictionaries considered unordered ?\n",
        "   \n",
        "   - Dictionaries in Python are considered unordered because their elements (key-value pairs) are not stored in a specific sequence based on their insertion order. Instead, they are arranged internally based on the hash of their keys for efficient lookups. However, starting from Python 3.7, dictionaries preserve insertion order as an implementation detail, but this behavior is not fundamental to how dictionaries work.\n",
        "\n",
        "Q20. Explain the difference between a list and a dictionary in terms of data retrieval.\n",
        "\n",
        "   - List: A list is like a row of items lined up in order. To get an item, you need to know its position (called an index). The items are numbered starting from 0. For example, if you want the first item, you use index 0.\n",
        "\n",
        "  Example: my_list = [10, 20, 30]\n",
        "  To get the second item: my_list[1] (which gives you 20)\n",
        "  Dictionary: A dictionary is like a list, but instead of using numbers (indexes), you use names or labels (called keys) to get the items. Each item has a key that helps you find it.\n",
        "\n",
        "  Example: my_dict = {'a': 10, 'b': 20, 'c': 30}\n",
        "  To get the value associated with 'b': my_dict['b'] (which gives you 20)\n",
        "  Key Difference:\n",
        "  List: You find things by position (like 1st, 2nd, 3rd, etc.).\n",
        "  Dictionary: You find things by name (like 'a', 'b', 'c', etc.).\n",
        "\n",
        "\n",
        "\n"
      ],
      "metadata": {
        "id": "baHOcJ1ZE1sy"
      }
    },
    {
      "cell_type": "code",
      "source": [
        "# Q1. Write a code to create a string with your name and print it.\n",
        "\n",
        "a=\"adil\"\n",
        "a"
      ],
      "metadata": {
        "colab": {
          "base_uri": "https://localhost:8080/",
          "height": 36
        },
        "id": "8Y-Bvc2GGO2f",
        "outputId": "eb57c4dc-246b-4e7f-be2f-99042b1228dd"
      },
      "execution_count": 1,
      "outputs": [
        {
          "output_type": "execute_result",
          "data": {
            "text/plain": [
              "'adil'"
            ],
            "application/vnd.google.colaboratory.intrinsic+json": {
              "type": "string"
            }
          },
          "metadata": {},
          "execution_count": 1
        }
      ]
    },
    {
      "cell_type": "code",
      "source": [
        "#Q2. Write a code to find the length of the string \"Hello World\".\n",
        "\n",
        "h=\"hello world\"\n",
        "len(h)              # Getting length from given word."
      ],
      "metadata": {
        "colab": {
          "base_uri": "https://localhost:8080/"
        },
        "id": "x1i8ZBR8GOS3",
        "outputId": "ca5e337f-aa0c-4950-f379-be53a5db8471"
      },
      "execution_count": 6,
      "outputs": [
        {
          "output_type": "execute_result",
          "data": {
            "text/plain": [
              "11"
            ]
          },
          "metadata": {},
          "execution_count": 6
        }
      ]
    },
    {
      "cell_type": "code",
      "source": [
        "# Q3. Write a code to slice the first 3 characters from the string \"Python Programming\".\n",
        "\n",
        "s=\"python programming\"\n",
        "s[0:3]                     # Slicing"
      ],
      "metadata": {
        "colab": {
          "base_uri": "https://localhost:8080/",
          "height": 36
        },
        "id": "9PxJc85EGOO8",
        "outputId": "06b088bc-5730-4a65-8b27-9c89059ced66"
      },
      "execution_count": 7,
      "outputs": [
        {
          "output_type": "execute_result",
          "data": {
            "text/plain": [
              "'pyt'"
            ],
            "application/vnd.google.colaboratory.intrinsic+json": {
              "type": "string"
            }
          },
          "metadata": {},
          "execution_count": 7
        }
      ]
    },
    {
      "cell_type": "code",
      "source": [
        "# Q4. Write a code to convert the string \"hello\" to uppercase.\n",
        "\n",
        "a=\"hello\"\n",
        "a.upper()              # Lowercase word convert to uppercase."
      ],
      "metadata": {
        "colab": {
          "base_uri": "https://localhost:8080/",
          "height": 36
        },
        "id": "QRIrbRMGGOBU",
        "outputId": "80bb1906-1f83-437d-c6ba-e43e1a583e13"
      },
      "execution_count": 8,
      "outputs": [
        {
          "output_type": "execute_result",
          "data": {
            "text/plain": [
              "'HELLO'"
            ],
            "application/vnd.google.colaboratory.intrinsic+json": {
              "type": "string"
            }
          },
          "metadata": {},
          "execution_count": 8
        }
      ]
    },
    {
      "cell_type": "code",
      "source": [
        "# Q5. Write a code to replace the word \"apple\" with \"orange\" in the string \"I like apple\".\n",
        "\n",
        "s=\"i like apple\"\n",
        "print(s)                                    # Before replace\n",
        "print(s.replace(\"apple\",\"orange\"))          # After replace"
      ],
      "metadata": {
        "colab": {
          "base_uri": "https://localhost:8080/"
        },
        "id": "gjCJx7oKEuof",
        "outputId": "1558a545-a48a-4014-efb0-d0b84ff880fc"
      },
      "execution_count": 12,
      "outputs": [
        {
          "output_type": "stream",
          "name": "stdout",
          "text": [
            "i like apple\n",
            "i like orange\n"
          ]
        }
      ]
    },
    {
      "cell_type": "code",
      "source": [
        "# Q6.  Write a code to create a list with numbers 1 to 5 and print it.\n",
        "\n",
        "l=(1,2,3,4,5)\n",
        "l                   # Print list"
      ],
      "metadata": {
        "colab": {
          "base_uri": "https://localhost:8080/"
        },
        "id": "ANUzp3dpEuV1",
        "outputId": "7f04e39f-8cae-4178-bd45-e43363965a11"
      },
      "execution_count": 13,
      "outputs": [
        {
          "output_type": "execute_result",
          "data": {
            "text/plain": [
              "(1, 2, 3, 4, 5)"
            ]
          },
          "metadata": {},
          "execution_count": 13
        }
      ]
    },
    {
      "cell_type": "code",
      "source": [
        "# Q7. Write a code to append the number 10 to the list [1, 2, 3, 4].\n",
        "\n",
        "n=[1,2,3,4]\n",
        "print(n)\n",
        "n.append(10)            # Append 10 to given number in list.\n",
        "print(n)\n"
      ],
      "metadata": {
        "colab": {
          "base_uri": "https://localhost:8080/"
        },
        "id": "KAC4XlvdEtzq",
        "outputId": "d482c30b-e102-4bcd-8bff-166a489f06a2"
      },
      "execution_count": 18,
      "outputs": [
        {
          "output_type": "stream",
          "name": "stdout",
          "text": [
            "[1, 2, 3, 4]\n",
            "[1, 2, 3, 4, 10]\n"
          ]
        }
      ]
    },
    {
      "cell_type": "code",
      "source": [
        "# Q8. Write a code to remove the number 3 from the list [1, 2, 3, 4, 5].\n",
        "\n",
        "c=[1,2,3,4,5]\n",
        "print(c)\n",
        "c.remove(3)       # Remove 3 from given number in list.\n",
        "print(c)"
      ],
      "metadata": {
        "colab": {
          "base_uri": "https://localhost:8080/"
        },
        "id": "mAciKKVCEtvw",
        "outputId": "5e2a5908-6c70-480c-aa1a-3922df145310"
      },
      "execution_count": 17,
      "outputs": [
        {
          "output_type": "stream",
          "name": "stdout",
          "text": [
            "[1, 2, 3, 4, 5]\n",
            "[1, 2, 4, 5]\n"
          ]
        }
      ]
    },
    {
      "cell_type": "code",
      "execution_count": 19,
      "metadata": {
        "colab": {
          "base_uri": "https://localhost:8080/"
        },
        "id": "A4xqidkRHsfE",
        "outputId": "0128ff88-3cc8-4473-9634-a50e72f571ad"
      },
      "outputs": [
        {
          "output_type": "stream",
          "name": "stdout",
          "text": [
            "['a', 'b', 'c', 'd']\n",
            "b\n"
          ]
        }
      ],
      "source": [
        "# Q9. Write a code to access the second element in the list ['a', 'b', 'c', 'd'].\n",
        "\n",
        "l=[\"a\",\"b\",\"c\",\"d\"]\n",
        "print(l)\n",
        "print(l[1])              # Accessing second letter from list."
      ]
    },
    {
      "cell_type": "code",
      "source": [
        "# Q10. Write a code to reverse the list [10, 20, 30, 40, 50].\n",
        "\n",
        "a=[10,20,30,40]\n",
        "print(a)\n",
        "a.reverse()         # Reversing the list.\n",
        "print(a)"
      ],
      "metadata": {
        "colab": {
          "base_uri": "https://localhost:8080/"
        },
        "id": "U8wJWf2-HuA4",
        "outputId": "906b9a8c-9277-4b8b-c4d3-92a1ab4cf9ce"
      },
      "execution_count": 22,
      "outputs": [
        {
          "output_type": "stream",
          "name": "stdout",
          "text": [
            "[10, 20, 30, 40]\n",
            "[40, 30, 20, 10]\n"
          ]
        }
      ]
    },
    {
      "cell_type": "code",
      "source": [
        "# Q11.  Write a code to create a tuple with the elements 10, 20, 30 and print it.\n",
        "\n",
        "t=(10,20,30)           # Creating tuple.\n",
        "t"
      ],
      "metadata": {
        "colab": {
          "base_uri": "https://localhost:8080/"
        },
        "id": "PsPuMedbLaNF",
        "outputId": "2f6fd40d-df17-4512-f62f-76070a4ab69f"
      },
      "execution_count": 26,
      "outputs": [
        {
          "output_type": "execute_result",
          "data": {
            "text/plain": [
              "(10, 20, 30)"
            ]
          },
          "metadata": {},
          "execution_count": 26
        }
      ]
    },
    {
      "cell_type": "code",
      "source": [
        "# Q12.  Write a code to access the first element of the tuple ('apple', 'banana', 'cherry').\n",
        "\n",
        "t=(\"Apple\",\"banana\",\"cherry\")\n",
        "print(t)\n",
        "print(t[0])                    # Accessing the 1st index of the tuple."
      ],
      "metadata": {
        "colab": {
          "base_uri": "https://localhost:8080/"
        },
        "id": "gR8ZKKomNIIU",
        "outputId": "e046219b-93bd-45d0-d10c-b810193e6c9e"
      },
      "execution_count": 27,
      "outputs": [
        {
          "output_type": "stream",
          "name": "stdout",
          "text": [
            "('Apple', 'banana', 'cherry')\n",
            "Apple\n"
          ]
        }
      ]
    },
    {
      "cell_type": "code",
      "source": [
        "# Q13. Write a code to count how many times the number 2 appears in the tuple (1, 2, 3, 2, 4, 2).\n",
        "T=(1, 2, 3, 2, 4, 2)\n",
        "T.count(2)            # Counting appearence of the 2"
      ],
      "metadata": {
        "colab": {
          "base_uri": "https://localhost:8080/"
        },
        "id": "yCLCTY8kNIFr",
        "outputId": "df57ca54-9cad-4e08-e7b7-3f6e3417706d"
      },
      "execution_count": 28,
      "outputs": [
        {
          "output_type": "execute_result",
          "data": {
            "text/plain": [
              "3"
            ]
          },
          "metadata": {},
          "execution_count": 28
        }
      ]
    },
    {
      "cell_type": "code",
      "source": [
        "# Q14.  Write a code to find the index of the element \"cat\" in the tuple ('dog', 'cat', 'rabbit').\n",
        "a=(\"dog\",\"cat\",\"rabbit\")\n",
        "a.index(\"cat\")            #checking the index of cat"
      ],
      "metadata": {
        "colab": {
          "base_uri": "https://localhost:8080/"
        },
        "id": "TPZqhV0kNIC8",
        "outputId": "6a526d2e-a90a-4cab-916d-bec01015c85e"
      },
      "execution_count": 29,
      "outputs": [
        {
          "output_type": "execute_result",
          "data": {
            "text/plain": [
              "1"
            ]
          },
          "metadata": {},
          "execution_count": 29
        }
      ]
    },
    {
      "cell_type": "code",
      "source": [
        "# Q15.  Write a code to check if the element \"banana\" is in the tuple ('apple', 'orange', 'banana').\n",
        "t=('apple', 'orange', 'banana')\n",
        "\"banana\" in t           # Checking banana in t or not\n"
      ],
      "metadata": {
        "colab": {
          "base_uri": "https://localhost:8080/"
        },
        "id": "MypX7x4JNH8n",
        "outputId": "a6270ccb-48ac-4ba6-c980-922503a027d2"
      },
      "execution_count": 31,
      "outputs": [
        {
          "output_type": "execute_result",
          "data": {
            "text/plain": [
              "True"
            ]
          },
          "metadata": {},
          "execution_count": 31
        }
      ]
    },
    {
      "cell_type": "code",
      "source": [
        "# Q16.  Write a code to create a set with the elements 1, 2, 3, 4, 5 and print it.\n",
        "S={1, 2, 3, 4, 5}\n",
        "print(S)          # Creating set and printing it"
      ],
      "metadata": {
        "colab": {
          "base_uri": "https://localhost:8080/"
        },
        "id": "aU8WGfT8PQsJ",
        "outputId": "eb1dacf7-213b-4ed6-eb13-66d75d51ba25"
      },
      "execution_count": 32,
      "outputs": [
        {
          "output_type": "stream",
          "name": "stdout",
          "text": [
            "{1, 2, 3, 4, 5}\n"
          ]
        }
      ]
    },
    {
      "cell_type": "code",
      "source": [
        "# Q17. Write a code to add the element 6 to the set {1, 2, 3, 4}.\n",
        "\n",
        "a={1,2,3,4}\n",
        "print(a)\n",
        "a.add(6)\n",
        "print(a)\n"
      ],
      "metadata": {
        "colab": {
          "base_uri": "https://localhost:8080/"
        },
        "id": "Es0F6e3wPQWI",
        "outputId": "46cd985b-81b2-4bbf-8205-feca3d00cbb1"
      },
      "execution_count": 33,
      "outputs": [
        {
          "output_type": "stream",
          "name": "stdout",
          "text": [
            "{1, 2, 3, 4}\n",
            "{1, 2, 3, 4, 6}\n"
          ]
        }
      ]
    },
    {
      "cell_type": "code",
      "source": [
        "# Q18. Write a code to create a tuple with the elements 10, 20, 30 and print it.\n",
        "\n",
        "t=(10, 20, 30)\n",
        "print(t)             # Cresting tuple and printing it"
      ],
      "metadata": {
        "colab": {
          "base_uri": "https://localhost:8080/"
        },
        "id": "tDqn7tMhPQTx",
        "outputId": "5ea99a93-e4bd-47e7-a1f4-004b22053607"
      },
      "execution_count": 34,
      "outputs": [
        {
          "output_type": "stream",
          "name": "stdout",
          "text": [
            "(10, 20, 30)\n"
          ]
        }
      ]
    },
    {
      "cell_type": "code",
      "source": [
        "# Q19.  Write a code to access the first element of the tuple ('apple', 'banana', 'cherry').\n",
        "\n",
        "t=('apple', 'banana', 'cherry')\n",
        "print(t)\n",
        "print(t[0])                # Accessing 1st element of tuple.\n"
      ],
      "metadata": {
        "colab": {
          "base_uri": "https://localhost:8080/"
        },
        "id": "9RQXbU6sSjg-",
        "outputId": "79da9431-2d7e-4117-82a9-f66e602b8f90"
      },
      "execution_count": 35,
      "outputs": [
        {
          "output_type": "stream",
          "name": "stdout",
          "text": [
            "('apple', 'banana', 'cherry')\n",
            "apple\n"
          ]
        }
      ]
    },
    {
      "cell_type": "code",
      "source": [
        "# Q20.  Write a code to count how many times the number 2 appears in the tuple (1, 2, 3, 2, 4, 2)\n",
        "\n",
        "T=(1, 2, 3, 2, 4, 2)\n",
        "T.count(2)            # Counting appearence of the 2"
      ],
      "metadata": {
        "colab": {
          "base_uri": "https://localhost:8080/"
        },
        "id": "W5dKszUoPQOd",
        "outputId": "98b11a31-1f51-42bd-d95a-2deebae0a977"
      },
      "execution_count": 36,
      "outputs": [
        {
          "output_type": "execute_result",
          "data": {
            "text/plain": [
              "3"
            ]
          },
          "metadata": {},
          "execution_count": 36
        }
      ]
    },
    {
      "cell_type": "code",
      "source": [
        "# Q21. Write a code to find the index of the element \"cat\" in the tuple ('dog', 'cat', 'rabbit').\n",
        "\n",
        "q= ('dog', 'cat', 'rabbit')\n",
        "print(q)\n",
        "q.index(\"cat\")"
      ],
      "metadata": {
        "colab": {
          "base_uri": "https://localhost:8080/"
        },
        "id": "1OmPjR84PQJW",
        "outputId": "57a494d2-f249-42ea-86f8-ea8912758d34"
      },
      "execution_count": 37,
      "outputs": [
        {
          "output_type": "stream",
          "name": "stdout",
          "text": [
            "('dog', 'cat', 'rabbit')\n"
          ]
        },
        {
          "output_type": "execute_result",
          "data": {
            "text/plain": [
              "1"
            ]
          },
          "metadata": {},
          "execution_count": 37
        }
      ]
    },
    {
      "cell_type": "code",
      "source": [
        "# Q22.  Write a code to check if the element \"banana\" is in the tuple ('apple', 'orange', 'banana).\n",
        "\n",
        "t=('apple', 'orange', 'banana')\n",
        "\"banana\" in t           # Checking banana in t or not\n"
      ],
      "metadata": {
        "colab": {
          "base_uri": "https://localhost:8080/"
        },
        "id": "oPKQIQYZULwg",
        "outputId": "7a53d0df-d236-4665-aae2-0bfb72daf6a3"
      },
      "execution_count": 38,
      "outputs": [
        {
          "output_type": "execute_result",
          "data": {
            "text/plain": [
              "True"
            ]
          },
          "metadata": {},
          "execution_count": 38
        }
      ]
    },
    {
      "cell_type": "code",
      "source": [
        "# Q23. Write a code to create a set with the elements 1, 2, 3, 4, 5 and print it.\n",
        "\n",
        "S={1, 2, 3, 4, 5}\n",
        "S                       # Creating set and printing it"
      ],
      "metadata": {
        "colab": {
          "base_uri": "https://localhost:8080/"
        },
        "id": "lrWh5XcPULLS",
        "outputId": "f0ad90c3-de0f-42c9-d565-030b2f844f63"
      },
      "execution_count": 40,
      "outputs": [
        {
          "output_type": "execute_result",
          "data": {
            "text/plain": [
              "{1, 2, 3, 4, 5}"
            ]
          },
          "metadata": {},
          "execution_count": 40
        }
      ]
    },
    {
      "cell_type": "code",
      "source": [
        " # Q24. Write a code to add the element 6 to the set {1, 2, 3, 4}.\n",
        "\n",
        " A={1, 2, 3, 4}\n",
        " print(A)\n",
        " A.add(6)                    # Adding 6 to the set\n",
        " print(A)"
      ],
      "metadata": {
        "colab": {
          "base_uri": "https://localhost:8080/"
        },
        "id": "-JUfJ8xKULIe",
        "outputId": "ece1eb7b-cc15-44a2-bcb2-c54330d79091"
      },
      "execution_count": 41,
      "outputs": [
        {
          "output_type": "stream",
          "name": "stdout",
          "text": [
            "{1, 2, 3, 4}\n",
            "{1, 2, 3, 4, 6}\n"
          ]
        }
      ]
    }
  ]
}